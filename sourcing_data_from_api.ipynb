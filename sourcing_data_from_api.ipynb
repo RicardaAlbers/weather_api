{
 "cells": [
  {
   "cell_type": "markdown",
   "metadata": {},
   "source": [
    "<div style=\"background-color: lightblue; color: black; padding: 10px; font-weight: bold; font-size: 15px;\\\"> Current weather in Hamburg, Düsseldorf, Berlin and Munic</div>"
   ]
  },
  {
   "cell_type": "code",
   "execution_count": 24,
   "metadata": {},
   "outputs": [],
   "source": [
    "# module import\n",
    "import numpy as np\n",
    "import pandas as pd\n",
    "\n",
    "import requests\n",
    "from dotenv import load_dotenv\n",
    "\n",
    "import os\n",
    "import json"
   ]
  },
  {
   "cell_type": "markdown",
   "metadata": {},
   "source": [
    "<div style=\"background-color: lightblue; color: black; padding: 10px; font-weight: bold; font-size: 15px;\\\"> Getting geo spacial coordinates per API</div>"
   ]
  },
  {
   "cell_type": "code",
   "execution_count": 2,
   "metadata": {},
   "outputs": [
    {
     "data": {
      "text/plain": [
       "True"
      ]
     },
     "execution_count": 2,
     "metadata": {},
     "output_type": "execute_result"
    }
   ],
   "source": [
    "# getting latitude and longitude of relevant cities by geocoding API\n",
    "# safe url\n",
    "url = 'http://api.openweathermap.org/geo/1.0/direct?'\n",
    "load_dotenv()"
   ]
  },
  {
   "cell_type": "code",
   "execution_count": 3,
   "metadata": {},
   "outputs": [
    {
     "name": "stdout",
     "output_type": "stream",
     "text": [
      "Latidude Hamburg : 53.550341\n",
      "Longitude Hamburg : 10.000654\n",
      "Latidude Düsseldorf : 51.2254018\n",
      "Longitude Düsseldorf : 6.7763137\n",
      "Latidude Berlin : 52.5170365\n",
      "Longitude Berlin : 13.3888599\n",
      "Latidude München : 48.1371079\n",
      "Longitude München : 11.5753822\n"
     ]
    }
   ],
   "source": [
    "# define list of cities\n",
    "cities = ['Hamburg', 'Düsseldorf', 'Berlin', 'München']\n",
    "\n",
    "# define empty dict for geo spacial coordinates\n",
    "cords = {}\n",
    "\n",
    "# using for loop to define parameters for each city and query its coordinates\n",
    "for city in cities:\n",
    "    \n",
    "    # parameter dictionary \n",
    "    parameters = {\n",
    "    'appid': os.getenv('openweather_api_key'),\n",
    "    'q': f'{city},DE'\n",
    "    }\n",
    "\n",
    "    #query data\n",
    "    with requests.get(url, params=parameters) as r:\n",
    "        # create json object\n",
    "        json_object = json.loads(r.content)\n",
    "        # get and print latitude and longitude for each city\n",
    "        lat_value = json_object[0]['lat']\n",
    "        print('Latidude', city, ':', lat_value)\n",
    "        lon_value = json_object[0]['lon']\n",
    "        print('Longitude', city, ':', lon_value)\n",
    "        # add to cords dictionary\n",
    "        cords[city] = [lat_value, lon_value]\n",
    "\n",
    "    "
   ]
  },
  {
   "cell_type": "markdown",
   "metadata": {},
   "source": [
    "<div style=\"background-color: lightblue; color: black; padding: 10px; font-weight: bold; font-size: 15px;\\\"> Getting weather data per API - Munic only</div"
   ]
  },
  {
   "cell_type": "code",
   "execution_count": 4,
   "metadata": {},
   "outputs": [
    {
     "data": {
      "text/plain": [
       "True"
      ]
     },
     "execution_count": 4,
     "metadata": {},
     "output_type": "execute_result"
    }
   ],
   "source": [
    "# set url for city weather data\n",
    "url = 'https://api.openweathermap.org/data/2.5/weather?'\n",
    "load_dotenv()"
   ]
  },
  {
   "cell_type": "code",
   "execution_count": 5,
   "metadata": {},
   "outputs": [],
   "source": [
    "# setting parameters for munic only\n",
    "parameters = {\n",
    "    'appid': os.getenv('openweather_api_key'),\n",
    "    'lat': 53.550341,\n",
    "    'lon': 10.000654,\n",
    "    'lang': 'en', \n",
    "    'units': 'metric'\n",
    "    }"
   ]
  },
  {
   "cell_type": "code",
   "execution_count": null,
   "metadata": {},
   "outputs": [],
   "source": [
    "# getting data for munic\n",
    "r_mu = requests.get(url, parameters)\n",
    "weather_mu = r_mu.json()"
   ]
  },
  {
   "cell_type": "markdown",
   "metadata": {},
   "source": [
    "Now we have a nested json file."
   ]
  },
  {
   "cell_type": "code",
   "execution_count": 7,
   "metadata": {},
   "outputs": [
    {
     "data": {
      "text/html": [
       "<div>\n",
       "<style scoped>\n",
       "    .dataframe tbody tr th:only-of-type {\n",
       "        vertical-align: middle;\n",
       "    }\n",
       "\n",
       "    .dataframe tbody tr th {\n",
       "        vertical-align: top;\n",
       "    }\n",
       "\n",
       "    .dataframe thead th {\n",
       "        text-align: right;\n",
       "    }\n",
       "</style>\n",
       "<table border=\"1\" class=\"dataframe\">\n",
       "  <thead>\n",
       "    <tr style=\"text-align: right;\">\n",
       "      <th></th>\n",
       "      <th>weather</th>\n",
       "      <th>base</th>\n",
       "      <th>visibility</th>\n",
       "      <th>dt</th>\n",
       "      <th>timezone</th>\n",
       "      <th>id</th>\n",
       "      <th>name</th>\n",
       "      <th>cod</th>\n",
       "      <th>coord_lon</th>\n",
       "      <th>coord_lat</th>\n",
       "      <th>...</th>\n",
       "      <th>main_pressure</th>\n",
       "      <th>main_humidity</th>\n",
       "      <th>wind_speed</th>\n",
       "      <th>wind_deg</th>\n",
       "      <th>clouds_all</th>\n",
       "      <th>sys_type</th>\n",
       "      <th>sys_id</th>\n",
       "      <th>sys_country</th>\n",
       "      <th>sys_sunrise</th>\n",
       "      <th>sys_sunset</th>\n",
       "    </tr>\n",
       "  </thead>\n",
       "  <tbody>\n",
       "    <tr>\n",
       "      <th>0</th>\n",
       "      <td>[{'id': 301, 'main': 'Drizzle', 'description':...</td>\n",
       "      <td>stations</td>\n",
       "      <td>4000</td>\n",
       "      <td>1697790062</td>\n",
       "      <td>7200</td>\n",
       "      <td>2911298</td>\n",
       "      <td>Hamburg</td>\n",
       "      <td>200</td>\n",
       "      <td>10.0007</td>\n",
       "      <td>53.5503</td>\n",
       "      <td>...</td>\n",
       "      <td>992</td>\n",
       "      <td>93</td>\n",
       "      <td>8.75</td>\n",
       "      <td>80</td>\n",
       "      <td>75</td>\n",
       "      <td>1</td>\n",
       "      <td>1263</td>\n",
       "      <td>DE</td>\n",
       "      <td>1697781320</td>\n",
       "      <td>1697818443</td>\n",
       "    </tr>\n",
       "  </tbody>\n",
       "</table>\n",
       "<p>1 rows × 24 columns</p>\n",
       "</div>"
      ],
      "text/plain": [
       "                                             weather      base  visibility   \n",
       "0  [{'id': 301, 'main': 'Drizzle', 'description':...  stations        4000  \\\n",
       "\n",
       "           dt  timezone       id     name  cod  coord_lon  coord_lat  ...   \n",
       "0  1697790062      7200  2911298  Hamburg  200    10.0007    53.5503  ...  \\\n",
       "\n",
       "   main_pressure  main_humidity  wind_speed  wind_deg  clouds_all  sys_type   \n",
       "0            992             93        8.75        80          75         1  \\\n",
       "\n",
       "   sys_id  sys_country  sys_sunrise  sys_sunset  \n",
       "0    1263           DE   1697781320  1697818443  \n",
       "\n",
       "[1 rows x 24 columns]"
      ]
     },
     "execution_count": 7,
     "metadata": {},
     "output_type": "execute_result"
    }
   ],
   "source": [
    "# Flatten json and save in df_mu\n",
    "df_mu = pd.json_normalize(weather_mu, sep=\"_\")\n",
    "df_mu"
   ]
  },
  {
   "cell_type": "markdown",
   "metadata": {},
   "source": [
    "There is still a nested dict in the dataframe within the weather column, which has to be transformed to columns as well."
   ]
  },
  {
   "cell_type": "code",
   "execution_count": 8,
   "metadata": {},
   "outputs": [],
   "source": [
    "# flatten the whole json file\n",
    "weather_mu = pd.json_normalize(weather_mu, \n",
    "                                  sep=\"_\", \n",
    "                                  record_path=\"weather\", # name the colum which is nested deeper\n",
    "                                  meta=[[\"coord\", \"lon\"], # structure of the remaining json\n",
    "                                        [\"coord\", \"lat\"], # add a prefix to record_path\n",
    "                                        \"base\",\n",
    "                                        [\"main\", \"temp\"],\n",
    "                                        [\"main\", \"feels_like\"],\n",
    "                                        [\"main\", \"temp_min\"],\n",
    "                                        [\"main\", \"temp_max\"], \n",
    "                                        [\"main\", \"pressure\"], \n",
    "                                        [\"main\", \"humidity\"], \n",
    "                                        \"visibility\", \n",
    "                                        [\"wind\", \"speed\"], \n",
    "                                        [\"wind\", \"deg\"], \n",
    "                                        [\"clouds\", \"all\"], \n",
    "                                        \"dt\", \n",
    "                                        [\"sys\", \"type\"], \n",
    "                                        [\"sys\", \"id\"],\n",
    "                                        [\"sys\", \"country\"],\n",
    "                                        [\"sys\", \"sunrise\"],\n",
    "                                        [\"sys\", \"sunset\"],\n",
    "                                        \"timezone\",\n",
    "                                        \"id\",\n",
    "                                        \"name\",\n",
    "                                        \"cod\"], \n",
    "                                  record_prefix=\"weather_\")# add a prefix to record_path"
   ]
  },
  {
   "cell_type": "code",
   "execution_count": 9,
   "metadata": {},
   "outputs": [
    {
     "data": {
      "text/html": [
       "<div>\n",
       "<style scoped>\n",
       "    .dataframe tbody tr th:only-of-type {\n",
       "        vertical-align: middle;\n",
       "    }\n",
       "\n",
       "    .dataframe tbody tr th {\n",
       "        vertical-align: top;\n",
       "    }\n",
       "\n",
       "    .dataframe thead th {\n",
       "        text-align: right;\n",
       "    }\n",
       "</style>\n",
       "<table border=\"1\" class=\"dataframe\">\n",
       "  <thead>\n",
       "    <tr style=\"text-align: right;\">\n",
       "      <th></th>\n",
       "      <th>weather_id</th>\n",
       "      <th>weather_main</th>\n",
       "      <th>weather_description</th>\n",
       "      <th>weather_icon</th>\n",
       "      <th>coord_lon</th>\n",
       "      <th>coord_lat</th>\n",
       "      <th>base</th>\n",
       "      <th>main_temp</th>\n",
       "      <th>main_feels_like</th>\n",
       "      <th>main_temp_min</th>\n",
       "      <th>...</th>\n",
       "      <th>dt</th>\n",
       "      <th>sys_type</th>\n",
       "      <th>sys_id</th>\n",
       "      <th>sys_country</th>\n",
       "      <th>sys_sunrise</th>\n",
       "      <th>sys_sunset</th>\n",
       "      <th>timezone</th>\n",
       "      <th>id</th>\n",
       "      <th>name</th>\n",
       "      <th>cod</th>\n",
       "    </tr>\n",
       "  </thead>\n",
       "  <tbody>\n",
       "    <tr>\n",
       "      <th>0</th>\n",
       "      <td>301</td>\n",
       "      <td>Drizzle</td>\n",
       "      <td>drizzle</td>\n",
       "      <td>09d</td>\n",
       "      <td>10.0007</td>\n",
       "      <td>53.5503</td>\n",
       "      <td>stations</td>\n",
       "      <td>5.91</td>\n",
       "      <td>1.13</td>\n",
       "      <td>5.16</td>\n",
       "      <td>...</td>\n",
       "      <td>1697790062</td>\n",
       "      <td>1</td>\n",
       "      <td>1263</td>\n",
       "      <td>DE</td>\n",
       "      <td>1697781320</td>\n",
       "      <td>1697818443</td>\n",
       "      <td>7200</td>\n",
       "      <td>2911298</td>\n",
       "      <td>Hamburg</td>\n",
       "      <td>200</td>\n",
       "    </tr>\n",
       "    <tr>\n",
       "      <th>1</th>\n",
       "      <td>701</td>\n",
       "      <td>Mist</td>\n",
       "      <td>mist</td>\n",
       "      <td>50d</td>\n",
       "      <td>10.0007</td>\n",
       "      <td>53.5503</td>\n",
       "      <td>stations</td>\n",
       "      <td>5.91</td>\n",
       "      <td>1.13</td>\n",
       "      <td>5.16</td>\n",
       "      <td>...</td>\n",
       "      <td>1697790062</td>\n",
       "      <td>1</td>\n",
       "      <td>1263</td>\n",
       "      <td>DE</td>\n",
       "      <td>1697781320</td>\n",
       "      <td>1697818443</td>\n",
       "      <td>7200</td>\n",
       "      <td>2911298</td>\n",
       "      <td>Hamburg</td>\n",
       "      <td>200</td>\n",
       "    </tr>\n",
       "  </tbody>\n",
       "</table>\n",
       "<p>2 rows × 27 columns</p>\n",
       "</div>"
      ],
      "text/plain": [
       "   weather_id weather_main weather_description weather_icon coord_lon   \n",
       "0         301      Drizzle             drizzle          09d   10.0007  \\\n",
       "1         701         Mist                mist          50d   10.0007   \n",
       "\n",
       "  coord_lat      base main_temp main_feels_like main_temp_min  ...   \n",
       "0   53.5503  stations      5.91            1.13          5.16  ...  \\\n",
       "1   53.5503  stations      5.91            1.13          5.16  ...   \n",
       "\n",
       "           dt sys_type sys_id sys_country sys_sunrise  sys_sunset timezone   \n",
       "0  1697790062        1   1263          DE  1697781320  1697818443     7200  \\\n",
       "1  1697790062        1   1263          DE  1697781320  1697818443     7200   \n",
       "\n",
       "        id     name  cod  \n",
       "0  2911298  Hamburg  200  \n",
       "1  2911298  Hamburg  200  \n",
       "\n",
       "[2 rows x 27 columns]"
      ]
     },
     "execution_count": 9,
     "metadata": {},
     "output_type": "execute_result"
    }
   ],
   "source": [
    "weather_mu"
   ]
  },
  {
   "cell_type": "markdown",
   "metadata": {},
   "source": [
    "As we can see, there can be multiple values for one column, so rows are duplicated. That has to be kept in mind. First going on with handling all cities."
   ]
  },
  {
   "cell_type": "markdown",
   "metadata": {},
   "source": [
    "<div style=\"background-color: lightblue; color: black; padding: 10px; font-weight: bold; font-size: 15px;\\\"> Getting weather data per API - all cities</div"
   ]
  },
  {
   "cell_type": "code",
   "execution_count": 10,
   "metadata": {},
   "outputs": [],
   "source": [
    "#getting data for all cities\n",
    "data_cities = []\n",
    "\n",
    "# defining parameter dictonary\n",
    "for city, cord in cords.items():\n",
    "    parameters = {\n",
    "    'appid': os.getenv('openweather_api_key'),\n",
    "    'lat': cords[city][0],\n",
    "    'lon': cords[city][1],\n",
    "    'lang': 'en', \n",
    "    'units': 'metric'\n",
    "    }\n",
    "\n",
    "    # query data\n",
    "    with requests.get(url, params=parameters) as r:\n",
    "        # create json object\n",
    "        data_city = r.json()\n",
    "        data_cities.append(data_city)\n"
   ]
  },
  {
   "cell_type": "code",
   "execution_count": 17,
   "metadata": {},
   "outputs": [],
   "source": [
    "# empty df\n",
    "df = pd.DataFrame()\n",
    "\n",
    "# normalizing all json items in cities list and concat them into one df\n",
    "for item in data_cities:\n",
    "      df_city = pd.json_normalize(item, \n",
    "                                  sep=\"_\", \n",
    "                                  record_path=\"weather\", # name the colum which is nested deeper\n",
    "                                  meta=[[\"coord\", \"lon\"], # structure of the remaining json\n",
    "                                        [\"coord\", \"lat\"], # add a prefix to record_path\n",
    "                                        \"base\",\n",
    "                                        [\"main\", \"temp\"],\n",
    "                                        [\"main\", \"feels_like\"],\n",
    "                                        [\"main\", \"temp_min\"],\n",
    "                                        [\"main\", \"temp_max\"], \n",
    "                                        [\"main\", \"pressure\"], \n",
    "                                        [\"main\", \"humidity\"], \n",
    "                                        \"visibility\", \n",
    "                                        [\"wind\", \"speed\"], \n",
    "                                        [\"wind\", \"deg\"], \n",
    "                                        [\"clouds\", \"all\"], \n",
    "                                        \"dt\", \n",
    "                                        [\"sys\", \"type\"], \n",
    "                                        [\"sys\", \"id\"],\n",
    "                                        [\"sys\", \"country\"],\n",
    "                                        [\"sys\", \"sunrise\"],\n",
    "                                        [\"sys\", \"sunset\"],\n",
    "                                        \"timezone\",\n",
    "                                        \"id\",\n",
    "                                        \"name\",\n",
    "                                        \"cod\"], \n",
    "                                  record_prefix=\"weather_\")# add a prefix to record_path\n",
    "      \n",
    "      df = pd.concat([df, df_city], ignore_index=True)"
   ]
  },
  {
   "cell_type": "code",
   "execution_count": 26,
   "metadata": {},
   "outputs": [
    {
     "data": {
      "text/html": [
       "<div>\n",
       "<style scoped>\n",
       "    .dataframe tbody tr th:only-of-type {\n",
       "        vertical-align: middle;\n",
       "    }\n",
       "\n",
       "    .dataframe tbody tr th {\n",
       "        vertical-align: top;\n",
       "    }\n",
       "\n",
       "    .dataframe thead th {\n",
       "        text-align: right;\n",
       "    }\n",
       "</style>\n",
       "<table border=\"1\" class=\"dataframe\">\n",
       "  <thead>\n",
       "    <tr style=\"text-align: right;\">\n",
       "      <th></th>\n",
       "      <th>weather_id</th>\n",
       "      <th>weather_main</th>\n",
       "      <th>weather_description</th>\n",
       "      <th>weather_icon</th>\n",
       "      <th>coord_lon</th>\n",
       "      <th>coord_lat</th>\n",
       "      <th>base</th>\n",
       "      <th>main_temp</th>\n",
       "      <th>main_feels_like</th>\n",
       "      <th>main_temp_min</th>\n",
       "      <th>...</th>\n",
       "      <th>dt</th>\n",
       "      <th>sys_type</th>\n",
       "      <th>sys_id</th>\n",
       "      <th>sys_country</th>\n",
       "      <th>sys_sunrise</th>\n",
       "      <th>sys_sunset</th>\n",
       "      <th>timezone</th>\n",
       "      <th>id</th>\n",
       "      <th>name</th>\n",
       "      <th>cod</th>\n",
       "    </tr>\n",
       "  </thead>\n",
       "  <tbody>\n",
       "    <tr>\n",
       "      <th>0</th>\n",
       "      <td>301</td>\n",
       "      <td>Drizzle</td>\n",
       "      <td>drizzle</td>\n",
       "      <td>09d</td>\n",
       "      <td>10.0007</td>\n",
       "      <td>53.5503</td>\n",
       "      <td>stations</td>\n",
       "      <td>5.91</td>\n",
       "      <td>1.13</td>\n",
       "      <td>5.16</td>\n",
       "      <td>...</td>\n",
       "      <td>1697790677</td>\n",
       "      <td>1</td>\n",
       "      <td>1263</td>\n",
       "      <td>DE</td>\n",
       "      <td>1697781320</td>\n",
       "      <td>1697818443</td>\n",
       "      <td>7200</td>\n",
       "      <td>2911298</td>\n",
       "      <td>Hamburg</td>\n",
       "      <td>200</td>\n",
       "    </tr>\n",
       "    <tr>\n",
       "      <th>1</th>\n",
       "      <td>701</td>\n",
       "      <td>Mist</td>\n",
       "      <td>mist</td>\n",
       "      <td>50d</td>\n",
       "      <td>10.0007</td>\n",
       "      <td>53.5503</td>\n",
       "      <td>stations</td>\n",
       "      <td>5.91</td>\n",
       "      <td>1.13</td>\n",
       "      <td>5.16</td>\n",
       "      <td>...</td>\n",
       "      <td>1697790677</td>\n",
       "      <td>1</td>\n",
       "      <td>1263</td>\n",
       "      <td>DE</td>\n",
       "      <td>1697781320</td>\n",
       "      <td>1697818443</td>\n",
       "      <td>7200</td>\n",
       "      <td>2911298</td>\n",
       "      <td>Hamburg</td>\n",
       "      <td>200</td>\n",
       "    </tr>\n",
       "  </tbody>\n",
       "</table>\n",
       "<p>2 rows × 27 columns</p>\n",
       "</div>"
      ],
      "text/plain": [
       "   weather_id weather_main weather_description weather_icon coord_lon   \n",
       "0         301      Drizzle             drizzle          09d   10.0007  \\\n",
       "1         701         Mist                mist          50d   10.0007   \n",
       "\n",
       "  coord_lat      base main_temp main_feels_like main_temp_min  ...   \n",
       "0   53.5503  stations      5.91            1.13          5.16  ...  \\\n",
       "1   53.5503  stations      5.91            1.13          5.16  ...   \n",
       "\n",
       "           dt sys_type sys_id sys_country sys_sunrise  sys_sunset timezone   \n",
       "0  1697790677        1   1263          DE  1697781320  1697818443     7200  \\\n",
       "1  1697790677        1   1263          DE  1697781320  1697818443     7200   \n",
       "\n",
       "        id     name  cod  \n",
       "0  2911298  Hamburg  200  \n",
       "1  2911298  Hamburg  200  \n",
       "\n",
       "[2 rows x 27 columns]"
      ]
     },
     "execution_count": 26,
     "metadata": {},
     "output_type": "execute_result"
    }
   ],
   "source": [
    "df.head(2)"
   ]
  },
  {
   "cell_type": "markdown",
   "metadata": {},
   "source": [
    "Again, we can see the multiplication of series as there are multiple values for the weather columns. Since this data is not used, we only keep every first row per city and then drop the superfluous rows."
   ]
  },
  {
   "cell_type": "code",
   "execution_count": 19,
   "metadata": {},
   "outputs": [],
   "source": [
    "# replace 'Mitte (wich is a part of Berlin) with Berlin\n",
    "df['name'] = df['name'].replace('Mitte', 'Berlin')"
   ]
  },
  {
   "cell_type": "code",
   "execution_count": null,
   "metadata": {},
   "outputs": [],
   "source": [
    "filtered_df = df[~df['name'].duplicated(keep='first')]\n",
    "filtered_df = filtered_df.drop(columns=['weather_id', 'weather_main', 'weather_description', 'weather_icon'])\n"
   ]
  },
  {
   "cell_type": "code",
   "execution_count": 25,
   "metadata": {},
   "outputs": [],
   "source": [
    "# safe dataframe as pkl\n",
    "filtered_df.to_pickle('data/weather_all_cities.pkl')"
   ]
  }
 ],
 "metadata": {
  "kernelspec": {
   "display_name": ".venv",
   "language": "python",
   "name": "python3"
  },
  "language_info": {
   "codemirror_mode": {
    "name": "ipython",
    "version": 3
   },
   "file_extension": ".py",
   "mimetype": "text/x-python",
   "name": "python",
   "nbconvert_exporter": "python",
   "pygments_lexer": "ipython3",
   "version": "3.11.3"
  },
  "orig_nbformat": 4
 },
 "nbformat": 4,
 "nbformat_minor": 2
}
